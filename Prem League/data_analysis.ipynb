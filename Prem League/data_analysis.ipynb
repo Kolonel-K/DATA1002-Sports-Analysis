{
 "cells": [
  {
   "cell_type": "markdown",
   "id": "2a704b9d",
   "metadata": {},
   "source": [
    "# English Premier League Data Analysis\n",
    "\n",
    "**Source:** https://fbref.com/en/comps/9/2024-2025/stats/2024-2025-Premier-League-Stats\n",
    "\n",
    "This notebook will be using the data available in the aforementioned website on every player who played in the 2024-2025 season of the English Premier League to answer the following question(s)\n",
    "\n",
    "## Aim/Questions:\n",
    "1. Not sure what to put here yet\n",
    "\n"
   ]
  },
  {
   "cell_type": "markdown",
   "id": "e8e1e4c2",
   "metadata": {},
   "source": [
    "## Web Scraping & Data Export: Bullet-Point Process\n",
    "\n",
    "1. Locate the player data table on the target website using the browser’s Inspect panel.\n",
    "2. Extract the table HTML and save it as a separate file for isolated processing.\n",
    "3. Load the HTML file into Python using the pandas library.\n",
    "4. Parse the HTML table directly into a structured DataFrame.\n",
    "5. Export the DataFrame to a CSV file, ensuring clean formatting for subsequent analysis."
   ]
  },
  {
   "cell_type": "code",
   "execution_count": 1,
   "id": "ffe5862c",
   "metadata": {},
   "outputs": [],
   "source": [
    "# This codeblock reads an HTML file containing a table of data and converts it into a cleaned CSV format.\n",
    "import pandas as pd\n",
    "\n",
    "tables = pd.read_html('data\\\\table_data.html')\n",
    "df = tables[0]\n",
    "df.to_csv('cleaned_data.csv', index=False)"
   ]
  },
  {
   "cell_type": "markdown",
   "id": "812b6d34",
   "metadata": {},
   "source": [
    "## Cleaning up the Data\n"
   ]
  },
  {
   "cell_type": "code",
   "execution_count": 2,
   "id": "0a6ff109",
   "metadata": {},
   "outputs": [
    {
     "name": "stdout",
     "output_type": "stream",
     "text": [
      "   Rk             Player   Nation    Pos        Squad   Age    Born  MP  \\\n",
      "0   1         Max Aarons  eng ENG     DF  Bournemouth  24.0  2000.0   3   \n",
      "1   2  Joshua Acheampong  eng ENG     DF      Chelsea  18.0  2006.0   4   \n",
      "2   3        Tyler Adams   us USA     MF  Bournemouth  25.0  1999.0  28   \n",
      "3   4   Tosin Adarabioyo  eng ENG     DF      Chelsea  26.0  1997.0  22   \n",
      "4   5      Simon Adingra   ci CIV  FW,MF     Brighton  22.0  2002.0  29   \n",
      "\n",
      "   Starts   Min  ...  Ast.1  G+A.1  G-PK.1  G+A-PK  xG.1  xAG.1  xG+xAG  \\\n",
      "0       1    86  ...   0.00   0.00    0.00    0.00  0.00   0.00    0.00   \n",
      "1       2   170  ...   0.00   0.00    0.00    0.00  0.12   0.00    0.12   \n",
      "2      21  1965  ...   0.14   0.14    0.00    0.14  0.07   0.05    0.12   \n",
      "3      15  1409  ...   0.06   0.13    0.06    0.13  0.06   0.01    0.07   \n",
      "4      12  1097  ...   0.16   0.33    0.16    0.33  0.20   0.20    0.40   \n",
      "\n",
      "   npxG.1  npxG+xAG.1  Matches  \n",
      "0    0.00        0.00  Matches  \n",
      "1    0.12        0.12  Matches  \n",
      "2    0.07        0.12  Matches  \n",
      "3    0.06        0.07  Matches  \n",
      "4    0.20        0.40  Matches  \n",
      "\n",
      "[5 rows x 37 columns]\n"
     ]
    }
   ],
   "source": [
    "# Defining the Data\n",
    "csv_file = pd.read_csv('cleaned_data.csv')\n",
    "df = csv_file.copy()\n",
    "print(df.head())  # Display the first few rows of the dataframe"
   ]
  },
  {
   "cell_type": "markdown",
   "id": "5bcfe306",
   "metadata": {},
   "source": [
    "## Data Exploration\n",
    "\n",
    "Printing out a summary of the dataframe clearly shows that some columns contain 'NULL' values."
   ]
  },
  {
   "cell_type": "code",
   "execution_count": 3,
   "id": "5ef65eb5",
   "metadata": {},
   "outputs": [
    {
     "name": "stdout",
     "output_type": "stream",
     "text": [
      "<class 'pandas.core.frame.DataFrame'>\n",
      "RangeIndex: 574 entries, 0 to 573\n",
      "Data columns (total 37 columns):\n",
      " #   Column      Non-Null Count  Dtype  \n",
      "---  ------      --------------  -----  \n",
      " 0   Rk          574 non-null    int64  \n",
      " 1   Player      574 non-null    object \n",
      " 2   Nation      570 non-null    object \n",
      " 3   Pos         574 non-null    object \n",
      " 4   Squad       574 non-null    object \n",
      " 5   Age         570 non-null    float64\n",
      " 6   Born        570 non-null    float64\n",
      " 7   MP          574 non-null    int64  \n",
      " 8   Starts      574 non-null    int64  \n",
      " 9   Min         574 non-null    int64  \n",
      " 10  90s         574 non-null    float64\n",
      " 11  Gls         574 non-null    int64  \n",
      " 12  Ast         574 non-null    int64  \n",
      " 13  G+A         574 non-null    int64  \n",
      " 14  G-PK        574 non-null    int64  \n",
      " 15  PK          574 non-null    int64  \n",
      " 16  PKatt       574 non-null    int64  \n",
      " 17  CrdY        574 non-null    int64  \n",
      " 18  CrdR        574 non-null    int64  \n",
      " 19  xG          574 non-null    float64\n",
      " 20  npxG        574 non-null    float64\n",
      " 21  xAG         574 non-null    float64\n",
      " 22  npxG+xAG    574 non-null    float64\n",
      " 23  PrgC        574 non-null    int64  \n",
      " 24  PrgP        574 non-null    int64  \n",
      " 25  PrgR        574 non-null    int64  \n",
      " 26  Gls.1       574 non-null    float64\n",
      " 27  Ast.1       574 non-null    float64\n",
      " 28  G+A.1       574 non-null    float64\n",
      " 29  G-PK.1      574 non-null    float64\n",
      " 30  G+A-PK      574 non-null    float64\n",
      " 31  xG.1        574 non-null    float64\n",
      " 32  xAG.1       574 non-null    float64\n",
      " 33  xG+xAG      574 non-null    float64\n",
      " 34  npxG.1      574 non-null    float64\n",
      " 35  npxG+xAG.1  574 non-null    float64\n",
      " 36  Matches     574 non-null    object \n",
      "dtypes: float64(17), int64(15), object(5)\n",
      "memory usage: 166.1+ KB\n",
      "None\n"
     ]
    }
   ],
   "source": [
    "print(df.info())  # Display a summary of the dataframe"
   ]
  },
  {
   "cell_type": "code",
   "execution_count": 4,
   "id": "885c300b",
   "metadata": {},
   "outputs": [
    {
     "name": "stdout",
     "output_type": "stream",
     "text": [
      "      Rk         Player Nation    Pos            Squad  Age  Born  MP  Starts  \\\n",
      "17    18  Olabade Aluko    NaN     DF  Leicester  City  NaN   NaN   1       0   \n",
      "171  172     Jake Evans    NaN     FW  Leicester  City  NaN   NaN   4       0   \n",
      "327  328    Mateus Mane    NaN     MF           Wolves  NaN   NaN   1       0   \n",
      "359  360   Jeremy Monga    NaN  FW,MF  Leicester  City  NaN   NaN   7       0   \n",
      "\n",
      "     Min  ...  Ast.1  G+A.1  G-PK.1  G+A-PK  xG.1  xAG.1  xG+xAG  npxG.1  \\\n",
      "17     2  ...    0.0    0.0     0.0     0.0  0.00   0.00    0.00    0.00   \n",
      "171   24  ...    0.0    0.0     0.0     0.0  0.00   0.00    0.00    0.00   \n",
      "327    2  ...    0.0    0.0     0.0     0.0  0.00   0.00    0.00    0.00   \n",
      "359  112  ...    0.0    0.0     0.0     0.0  0.13   0.01    0.14    0.13   \n",
      "\n",
      "     npxG+xAG.1  Matches  \n",
      "17         0.00  Matches  \n",
      "171        0.00  Matches  \n",
      "327        0.00  Matches  \n",
      "359        0.14  Matches  \n",
      "\n",
      "[4 rows x 37 columns]\n"
     ]
    }
   ],
   "source": [
    "# Finding the Null Values\n",
    "print(df[df['Age'].isna()])"
   ]
  },
  {
   "cell_type": "code",
   "execution_count": 5,
   "id": "76035630",
   "metadata": {},
   "outputs": [
    {
     "name": "stdout",
     "output_type": "stream",
     "text": [
      "<class 'pandas.core.frame.DataFrame'>\n",
      "Index: 570 entries, 0 to 573\n",
      "Data columns (total 37 columns):\n",
      " #   Column      Non-Null Count  Dtype  \n",
      "---  ------      --------------  -----  \n",
      " 0   Rk          570 non-null    int64  \n",
      " 1   Player      570 non-null    object \n",
      " 2   Nation      570 non-null    object \n",
      " 3   Pos         570 non-null    object \n",
      " 4   Squad       570 non-null    object \n",
      " 5   Age         570 non-null    float64\n",
      " 6   Born        570 non-null    float64\n",
      " 7   MP          570 non-null    int64  \n",
      " 8   Starts      570 non-null    int64  \n",
      " 9   Min         570 non-null    int64  \n",
      " 10  90s         570 non-null    float64\n",
      " 11  Gls         570 non-null    int64  \n",
      " 12  Ast         570 non-null    int64  \n",
      " 13  G+A         570 non-null    int64  \n",
      " 14  G-PK        570 non-null    int64  \n",
      " 15  PK          570 non-null    int64  \n",
      " 16  PKatt       570 non-null    int64  \n",
      " 17  CrdY        570 non-null    int64  \n",
      " 18  CrdR        570 non-null    int64  \n",
      " 19  xG          570 non-null    float64\n",
      " 20  npxG        570 non-null    float64\n",
      " 21  xAG         570 non-null    float64\n",
      " 22  npxG+xAG    570 non-null    float64\n",
      " 23  PrgC        570 non-null    int64  \n",
      " 24  PrgP        570 non-null    int64  \n",
      " 25  PrgR        570 non-null    int64  \n",
      " 26  Gls.1       570 non-null    float64\n",
      " 27  Ast.1       570 non-null    float64\n",
      " 28  G+A.1       570 non-null    float64\n",
      " 29  G-PK.1      570 non-null    float64\n",
      " 30  G+A-PK      570 non-null    float64\n",
      " 31  xG.1        570 non-null    float64\n",
      " 32  xAG.1       570 non-null    float64\n",
      " 33  xG+xAG      570 non-null    float64\n",
      " 34  npxG.1      570 non-null    float64\n",
      " 35  npxG+xAG.1  570 non-null    float64\n",
      " 36  Matches     570 non-null    object \n",
      "dtypes: float64(17), int64(15), object(5)\n",
      "memory usage: 169.2+ KB\n"
     ]
    }
   ],
   "source": [
    "# Dropping the rows with Null values in the 'Age' column\n",
    "df = df.dropna(subset=['Age'])\n",
    "df.info()"
   ]
  },
  {
   "cell_type": "markdown",
   "id": "cdf483f8",
   "metadata": {},
   "source": [
    "## Trimming the Data for our needs\n",
    "This dataset has too many columns, most of which are not relevant to our purposes. So, we will be making a new .csv file which only includes the columns that we require."
   ]
  }
 ],
 "metadata": {
  "kernelspec": {
   "display_name": "Python 3",
   "language": "python",
   "name": "python3"
  },
  "language_info": {
   "codemirror_mode": {
    "name": "ipython",
    "version": 3
   },
   "file_extension": ".py",
   "mimetype": "text/x-python",
   "name": "python",
   "nbconvert_exporter": "python",
   "pygments_lexer": "ipython3",
   "version": "3.13.3"
  }
 },
 "nbformat": 4,
 "nbformat_minor": 5
}
